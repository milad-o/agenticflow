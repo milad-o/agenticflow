{
 "cells": [
  {
   "cell_type": "markdown",
   "metadata": {},
   "source": [
    "# AgenticFlow Interactive Visualization in Jupyter\n",
    "\n",
    "This notebook demonstrates how to create and display AgenticFlow workflow and topology visualizations directly in Jupyter notebooks.\n",
    "\n",
    "## Setup\n",
    "\n",
    "First, let's import the necessary modules:"
   ]
  },
  {
   "cell_type": "code",
   "execution_count": null,
   "metadata": {},
   "outputs": [],
   "source": [
    "from agenticflow.visualization import (\n",
    "    MermaidGenerator,\n",
    "    WorkflowVisualizer,\n",
    "    TopologyVisualizer\n",
    ")\n",
    "from agenticflow.visualization.workflow_visualizer import (\n",
    "    TaskNode,\n",
    "    TaskState,\n",
    "    WorkflowInfo\n",
    ")\n",
    "from agenticflow.visualization.mermaid_generator import (\n",
    "    FlowDirection,\n",
    "    NodeShape,\n",
    "    EdgeType\n",
    ")\n",
    "\n",
    "print(\"✅ AgenticFlow visualization modules imported successfully!\")"
   ]
  },
  {
   "cell_type": "markdown",
   "metadata": {},
   "source": [
    "## 1. Quick Workflow Visualization\n",
    "\n",
    "Create and display a machine learning pipeline workflow:"
   ]
  },
  {
   "cell_type": "code",
   "execution_count": null,
   "metadata": {},
   "outputs": [],
   "source": [
    "# Create workflow tasks\n",
    "tasks = [\n",
    "    TaskNode(\"setup\", \"Environment Setup\", \"Initialize environment\", \n",
    "            TaskState.COMPLETED, \"HIGH\", [], actual_duration=15.0),\n",
    "    TaskNode(\"data_load\", \"Data Loading\", \"Load training data\", \n",
    "            TaskState.COMPLETED, \"CRITICAL\", [\"setup\"], actual_duration=45.0),\n",
    "    TaskNode(\"preprocessing\", \"Data Preprocessing\", \"Clean and prepare data\", \n",
    "            TaskState.RUNNING, \"HIGH\", [\"data_load\"], estimated_duration=30.0),\n",
    "    TaskNode(\"training\", \"Model Training\", \"Train ML model\", \n",
    "            TaskState.PENDING, \"CRITICAL\", [\"preprocessing\"], estimated_duration=120.0),\n",
    "    TaskNode(\"evaluation\", \"Model Evaluation\", \"Evaluate performance\", \n",
    "            TaskState.PENDING, \"HIGH\", [\"training\"], estimated_duration=20.0),\n",
    "    TaskNode(\"deployment\", \"Model Deployment\", \"Deploy to production\", \n",
    "            TaskState.PENDING, \"NORMAL\", [\"evaluation\"], estimated_duration=25.0)\n",
    "]\n",
    "\n",
    "workflow_info = WorkflowInfo(\n",
    "    name=\"ML Training Pipeline\",\n",
    "    description=\"End-to-end ML model training\",\n",
    "    total_tasks=6,\n",
    "    completed_tasks=2,\n",
    "    failed_tasks=0,\n",
    "    execution_time=60.0\n",
    ")\n",
    "\n",
    "# Create workflow visualizer\n",
    "workflow_viz = WorkflowVisualizer()\n",
    "\n",
    "# Generate the workflow diagram - this will be displayed inline!\n",
    "workflow_viz.visualize_dag(tasks, workflow_info, group_by_priority=True)\n",
    "\n",
    "# Display the workflow (Jupyter will automatically call _repr_html_)\n",
    "workflow_viz"
   ]
  },
  {
   "cell_type": "markdown",
   "metadata": {},
   "source": [
    "## 2. Agent Topology Visualization\n",
    "\n",
    "Create and display a multi-agent system topology:"
   ]
  },
  {
   "cell_type": "code",
   "execution_count": null,
   "metadata": {},
   "outputs": [],
   "source": [
    "# Create topology diagram\n",
    "topology_gen = MermaidGenerator()\n",
    "topology_gen.set_direction(FlowDirection.TOP_DOWN)\n",
    "\n",
    "# Add system components\n",
    "topology_gen.add_node(\"api\", \"API Gateway\", NodeShape.HEXAGON, css_class=\"tool-external\")\n",
    "topology_gen.add_node(\"supervisor\", \"Supervisor Agent\", NodeShape.DIAMOND, css_class=\"agent-supervisor\") \n",
    "topology_gen.add_node(\"worker1\", \"Research Worker\", NodeShape.ROUNDED, css_class=\"agent-worker\")\n",
    "topology_gen.add_node(\"worker2\", \"Analysis Worker\", NodeShape.ROUNDED, css_class=\"agent-specialist\")\n",
    "topology_gen.add_node(\"db\", \"Database\", NodeShape.CYLINDER, css_class=\"tool-database\")\n",
    "\n",
    "# Add connections\n",
    "topology_gen.add_edge(\"api\", \"supervisor\", \"request\", EdgeType.SOLID)\n",
    "topology_gen.add_edge(\"supervisor\", \"worker1\", \"assign\", EdgeType.THICK)\n",
    "topology_gen.add_edge(\"supervisor\", \"worker2\", \"assign\", EdgeType.THICK)\n",
    "topology_gen.add_edge(\"worker1\", \"db\", \"query\", EdgeType.DOTTED)\n",
    "topology_gen.add_edge(\"worker2\", \"db\", \"query\", EdgeType.DOTTED)\n",
    "\n",
    "# Add logical grouping\n",
    "topology_gen.add_subgraph(\"workers\", \"Worker Agents\", [\"worker1\", \"worker2\"])\n",
    "\n",
    "# Display the topology (will render inline)\n",
    "topology_gen"
   ]
  },
  {
   "cell_type": "markdown",
   "metadata": {},
   "source": [
    "## 3. Custom Business Process\n",
    "\n",
    "Create a custom business process flow diagram:"
   ]
  },
  {
   "cell_type": "code",
   "execution_count": null,
   "metadata": {},
   "outputs": [],
   "source": [
    "# Business process visualization\n",
    "process_gen = MermaidGenerator()\n",
    "process_gen.set_direction(FlowDirection.LEFT_RIGHT)\n",
    "\n",
    "# Business process steps\n",
    "process_gen.add_node(\"start\", \"Customer Request\", NodeShape.CIRCLE, css_class=\"task-pending\")\n",
    "process_gen.add_node(\"intake\", \"Request Intake\", NodeShape.RECTANGLE, css_class=\"task-completed\")\n",
    "process_gen.add_node(\"analysis\", \"Requirements Analysis\", NodeShape.RECTANGLE, css_class=\"task-running\")\n",
    "process_gen.add_node(\"approval\", \"Manager Approval\", NodeShape.DIAMOND, css_class=\"task-pending\")\n",
    "process_gen.add_node(\"implementation\", \"Implementation\", NodeShape.RECTANGLE, css_class=\"task-pending\")\n",
    "process_gen.add_node(\"testing\", \"Quality Testing\", NodeShape.RECTANGLE, css_class=\"task-pending\")\n",
    "process_gen.add_node(\"delivery\", \"Delivery\", NodeShape.CIRCLE, css_class=\"task-pending\")\n",
    "\n",
    "# Process flow with decision points\n",
    "process_gen.add_edge(\"start\", \"intake\", \"submit\", EdgeType.SOLID)\n",
    "process_gen.add_edge(\"intake\", \"analysis\", \"process\", EdgeType.SOLID)\n",
    "process_gen.add_edge(\"analysis\", \"approval\", \"review\", EdgeType.SOLID)\n",
    "process_gen.add_edge(\"approval\", \"implementation\", \"approved\", EdgeType.SOLID)\n",
    "process_gen.add_edge(\"approval\", \"analysis\", \"needs revision\", EdgeType.DOTTED)\n",
    "process_gen.add_edge(\"implementation\", \"testing\", \"complete\", EdgeType.SOLID)\n",
    "process_gen.add_edge(\"testing\", \"delivery\", \"pass\", EdgeType.SOLID)\n",
    "process_gen.add_edge(\"testing\", \"implementation\", \"fail\", EdgeType.DOTTED)\n",
    "\n",
    "# Group by process phases\n",
    "process_gen.add_subgraph(\"initiation\", \"Initiation\", [\"start\", \"intake\"])\n",
    "process_gen.add_subgraph(\"planning\", \"Planning\", [\"analysis\", \"approval\"])\n",
    "process_gen.add_subgraph(\"execution\", \"Execution\", [\"implementation\", \"testing\", \"delivery\"])\n",
    "\n",
    "# Display the process (inline rendering)\n",
    "process_gen"
   ]
  },
  {
   "cell_type": "markdown",
   "metadata": {},
   "source": [
    "## 4. Saving Diagrams to Files\n",
    "\n",
    "You can also save diagrams to files for sharing or embedding in documentation:"
   ]
  },
  {
   "cell_type": "code",
   "execution_count": null,
   "metadata": {},
   "outputs": [],
   "source": [
    "# Save workflow as SVG\n",
    "success = workflow_viz.draw_dag(\n",
    "    tasks, \n",
    "    workflow_info, \n",
    "    \"output/ml_workflow_notebook.svg\", \n",
    "    format=\"svg\"\n",
    ")\n",
    "\n",
    "if success:\n",
    "    print(\"✅ Workflow diagram saved to output/ml_workflow_notebook.svg\")\n",
    "else:\n",
    "    print(\"❌ Failed to save workflow diagram\")\n",
    "\n",
    "# Save topology as SVG\n",
    "success = topology_gen.draw(\"output/topology_notebook.svg\", format=\"svg\")\n",
    "\n",
    "if success:\n",
    "    print(\"✅ Topology diagram saved to output/topology_notebook.svg\")\n",
    "else:\n",
    "    print(\"❌ Failed to save topology diagram\")"
   ]
  },
  {
   "cell_type": "markdown",
   "metadata": {},
   "source": [
    "## 5. Interactive Features\n",
    "\n",
    "The visualizations support:\n",
    "\n",
    "- **Inline Display**: Diagrams render directly in notebook cells\n",
    "- **SVG Export**: High-quality scalable vector graphics\n",
    "- **Multiple Formats**: PNG, SVG, PDF export support\n",
    "- **Styling**: CSS-based styling with predefined color schemes\n",
    "- **Dynamic Content**: Real-time workflow and topology updates\n",
    "\n",
    "### Key Jupyter Features:\n",
    "\n",
    "1. **Automatic Rendering**: Simply display any visualizer object to see the diagram\n",
    "2. **No External Dependencies**: Works with just mermaid-py for inline SVG rendering\n",
    "3. **Responsive Display**: Diagrams scale appropriately in notebook cells\n",
    "4. **Error Handling**: Graceful fallbacks if rendering fails\n",
    "\n",
    "### Usage Patterns:\n",
    "\n",
    "```python\n",
    "# Quick inline display\n",
    "viz = WorkflowVisualizer()\n",
    "viz.visualize_dag(tasks)\n",
    "viz  # Displays inline\n",
    "\n",
    "# Or create and display in one step\n",
    "generator = MermaidGenerator()\n",
    "generator.add_node(\"A\", \"Node A\")\n",
    "generator.add_node(\"B\", \"Node B\")\n",
    "generator.add_edge(\"A\", \"B\", \"connects to\")\n",
    "generator  # Displays inline\n",
    "```"
   ]
  }
 ],
 "metadata": {
  "kernelspec": {
   "display_name": "Python 3",
   "language": "python",
   "name": "python3"
  },
  "language_info": {
   "codemirror_mode": {
    "name": "ipython",
    "version": 3
   },
   "file_extension": ".py",
   "mimetype": "text/x-python",
   "name": "python",
   "nbconvert_exporter": "python",
   "pygments_lexer": "ipython3",
   "version": "3.12.0"
  }
 },
 "nbformat": 4,
 "nbformat_minor": 4
}